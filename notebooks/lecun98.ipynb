{
 "cells": [
  {
   "cell_type": "code",
   "execution_count": 1,
   "id": "8f004a52-147e-460f-8888-37bbcff21f43",
   "metadata": {},
   "outputs": [],
   "source": [
    "import torch\n",
    "from torch.utils.data import DataLoader\n",
    "from torch.optim import Adam, Adadelta"
   ]
  },
  {
   "cell_type": "code",
   "execution_count": 2,
   "id": "0223d560-eebb-4249-b834-32e4735b29ad",
   "metadata": {},
   "outputs": [],
   "source": [
    "from willitsurf.models.lenet import LeNet\n",
    "from willitsurf.dataset import SurfImageDataset\n",
    "from willitsurf.dataset import train_val_test_datset_split\n",
    "from willitsurf.dataset import BalancedClassDataloader\n",
    "from willitsurf.models.lenet import train, validate, test"
   ]
  },
  {
   "cell_type": "code",
   "execution_count": 3,
   "id": "9f8d0705-0c38-4078-b054-be1b3b8e8d8f",
   "metadata": {},
   "outputs": [],
   "source": [
    "dataset = SurfImageDataset('../assets/data/labels/annotations.tsv', '../assets/data/raw', relative_path_to_assets='../')"
   ]
  },
  {
   "cell_type": "code",
   "execution_count": 4,
   "id": "477e1043-debd-4d38-8067-0a2e55abf824",
   "metadata": {},
   "outputs": [
    {
     "data": {
      "text/plain": [
       "758"
      ]
     },
     "execution_count": 4,
     "metadata": {},
     "output_type": "execute_result"
    }
   ],
   "source": [
    "len(dataset)"
   ]
  },
  {
   "cell_type": "code",
   "execution_count": 5,
   "id": "0d2c9515-0925-4095-a243-38df9b8bb71c",
   "metadata": {},
   "outputs": [],
   "source": [
    "train_dataset, val_dataset, test_dataset = train_val_test_datset_split(dataset)"
   ]
  },
  {
   "cell_type": "code",
   "execution_count": 6,
   "id": "0de4cab7-579d-40c2-afff-cd68ca77e11d",
   "metadata": {},
   "outputs": [],
   "source": [
    "train_dataloader = BalancedClassDataloader(train_dataset, batch_size=32)\n",
    "val_dataloader = DataLoader(val_dataset, batch_size=32, shuffle=True)\n",
    "test_dataloader = DataLoader(test_dataset, batch_size=32, shuffle=True)"
   ]
  },
  {
   "cell_type": "code",
   "execution_count": 10,
   "id": "9b5b97fc-873c-47d1-be3a-7071b6f28c84",
   "metadata": {},
   "outputs": [
    {
     "data": {
      "text/plain": [
       "LeNet(\n",
       "  (cn1): Conv2d(3, 6, kernel_size=(10, 10), stride=(2, 2))\n",
       "  (cn2): Conv2d(6, 16, kernel_size=(10, 10), stride=(4, 4))\n",
       "  (fc1): Linear(in_features=9440, out_features=120, bias=True)\n",
       "  (fc2): Linear(in_features=120, out_features=84, bias=True)\n",
       "  (fc3): Linear(in_features=84, out_features=2, bias=True)\n",
       ")"
      ]
     },
     "execution_count": 10,
     "metadata": {},
     "output_type": "execute_result"
    }
   ],
   "source": [
    "model = LeNet()\n",
    "model.to('mps')"
   ]
  },
  {
   "cell_type": "code",
   "execution_count": 11,
   "id": "58caab88-1394-4a4c-9228-fded1fadf5eb",
   "metadata": {},
   "outputs": [],
   "source": [
    "optimizer = Adam(model.parameters(), lr=0.0001)"
   ]
  },
  {
   "cell_type": "code",
   "execution_count": 9,
   "id": "e505633c-86e8-42de-9be9-3cdc730f4cd3",
   "metadata": {},
   "outputs": [],
   "source": [
    "import logging\n",
    "logger = logging.getLogger()\n",
    "logger.setLevel(logging.DEBUG)"
   ]
  },
  {
   "cell_type": "code",
   "execution_count": null,
   "id": "2a6b21fa-87a8-4e7b-ab08-9623a7299b77",
   "metadata": {},
   "outputs": [
    {
     "name": "stdout",
     "output_type": "stream",
     "text": [
      "epoch: 0, 0, 568, 0.0, 0.6990761756896973\n",
      "epoch: 0, 320, 568, 55.55555555555556, 0.6944805383682251\n",
      "Accuracy on val dataset: 23.68421052631579\n",
      "epoch: 1, 0, 568, 0.0, 0.6900649070739746\n",
      "epoch: 1, 320, 568, 55.55555555555556, 0.7013429403305054\n",
      "epoch: 2, 0, 568, 0.0, 0.6885457634925842\n",
      "epoch: 2, 320, 568, 55.55555555555556, 0.6779267191886902\n",
      "epoch: 3, 0, 568, 0.0, 0.6725304126739502\n",
      "epoch: 3, 320, 568, 55.55555555555556, 0.6704833507537842\n",
      "epoch: 4, 0, 568, 0.0, 0.7143497467041016\n",
      "epoch: 4, 320, 568, 55.55555555555556, 0.6536661386489868\n",
      "epoch: 5, 0, 568, 0.0, 0.6367033123970032\n",
      "epoch: 5, 320, 568, 55.55555555555556, 0.6638399362564087\n",
      "epoch: 6, 0, 568, 0.0, 0.6382762789726257\n",
      "epoch: 6, 320, 568, 55.55555555555556, 0.6300560235977173\n",
      "epoch: 7, 0, 568, 0.0, 0.6580138802528381\n",
      "epoch: 7, 320, 568, 55.55555555555556, 0.6542156338691711\n",
      "epoch: 8, 0, 568, 0.0, 0.6340775489807129\n",
      "epoch: 8, 320, 568, 55.55555555555556, 0.615452766418457\n",
      "epoch: 9, 0, 568, 0.0, 0.5619714260101318\n",
      "epoch: 9, 320, 568, 55.55555555555556, 0.6179791688919067\n",
      "epoch: 10, 0, 568, 0.0, 0.7038673162460327\n",
      "epoch: 10, 320, 568, 55.55555555555556, 0.597980797290802\n",
      "Accuracy on val dataset: 89.47368421052632\n",
      "epoch: 11, 0, 568, 0.0, 0.6819194555282593\n",
      "epoch: 11, 320, 568, 55.55555555555556, 0.6095468997955322\n",
      "epoch: 12, 0, 568, 0.0, 0.5781300663948059\n",
      "epoch: 12, 320, 568, 55.55555555555556, 0.666089653968811\n",
      "epoch: 13, 0, 568, 0.0, 0.7043399810791016\n",
      "epoch: 13, 320, 568, 55.55555555555556, 0.5889486074447632\n",
      "epoch: 14, 0, 568, 0.0, 0.6706069707870483\n",
      "epoch: 14, 320, 568, 55.55555555555556, 0.6967233419418335\n",
      "epoch: 15, 0, 568, 0.0, 0.6690126657485962\n",
      "epoch: 15, 320, 568, 55.55555555555556, 0.7023447155952454\n",
      "epoch: 16, 0, 568, 0.0, 0.5370874404907227\n",
      "epoch: 16, 320, 568, 55.55555555555556, 0.5118212699890137\n",
      "epoch: 17, 0, 568, 0.0, 0.570584774017334\n",
      "epoch: 17, 320, 568, 55.55555555555556, 0.66136634349823\n",
      "epoch: 18, 0, 568, 0.0, 0.6174355745315552\n",
      "epoch: 18, 320, 568, 55.55555555555556, 0.5744035243988037\n",
      "epoch: 19, 0, 568, 0.0, 0.6662419438362122\n"
     ]
    }
   ],
   "source": [
    "for epoch in range(100):\n",
    "    train(model, 'mps', train_dataloader, optimizer, epoch)\n",
    "    if epoch % 10 == 0:\n",
    "        validate(model, 'mps', val_dataloader)"
   ]
  },
  {
   "cell_type": "code",
   "execution_count": null,
   "id": "fb85cded-d21f-4ba9-8755-a81357927c2a",
   "metadata": {},
   "outputs": [],
   "source": [
    "X, y = next(iter(test_dataloader))\n",
    "X = X.to('mps')\n",
    "y = y.to('mps')"
   ]
  },
  {
   "cell_type": "code",
   "execution_count": null,
   "id": "99f18d6b-caff-4609-bd5a-90146843fcfe",
   "metadata": {},
   "outputs": [],
   "source": [
    "model.forward(X)"
   ]
  },
  {
   "cell_type": "code",
   "execution_count": null,
   "id": "edf0f32a-4d02-4a98-9386-b02a7904cc17",
   "metadata": {},
   "outputs": [],
   "source": []
  }
 ],
 "metadata": {
  "kernelspec": {
   "display_name": "Python 3 (ipykernel)",
   "language": "python",
   "name": "python3"
  },
  "language_info": {
   "codemirror_mode": {
    "name": "ipython",
    "version": 3
   },
   "file_extension": ".py",
   "mimetype": "text/x-python",
   "name": "python",
   "nbconvert_exporter": "python",
   "pygments_lexer": "ipython3",
   "version": "3.11.9"
  }
 },
 "nbformat": 4,
 "nbformat_minor": 5
}
