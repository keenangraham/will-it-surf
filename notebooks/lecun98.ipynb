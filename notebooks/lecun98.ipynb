{
 "cells": [
  {
   "cell_type": "code",
   "execution_count": 1,
   "id": "8f004a52-147e-460f-8888-37bbcff21f43",
   "metadata": {},
   "outputs": [],
   "source": [
    "import torch\n",
    "from torch.utils.data import DataLoader\n",
    "from torch.optim import Adam, Adadelta"
   ]
  },
  {
   "cell_type": "code",
   "execution_count": 2,
   "id": "0223d560-eebb-4249-b834-32e4735b29ad",
   "metadata": {},
   "outputs": [],
   "source": [
    "from willitsurf.models.lenet import LeNet\n",
    "from willitsurf.dataset import SurfImageDataset\n",
    "from willitsurf.dataset import train_val_test_datset_split\n",
    "from willitsurf.dataset import BalancedClassDataloader\n",
    "from willitsurf.models.lenet import train, validate, test"
   ]
  },
  {
   "cell_type": "code",
   "execution_count": 3,
   "id": "9f8d0705-0c38-4078-b054-be1b3b8e8d8f",
   "metadata": {},
   "outputs": [],
   "source": [
    "dataset = SurfImageDataset('../assets/data/labels/annotations.tsv', '../assets/data/raw', relative_path_to_assets='../')"
   ]
  },
  {
   "cell_type": "code",
   "execution_count": 4,
   "id": "477e1043-debd-4d38-8067-0a2e55abf824",
   "metadata": {},
   "outputs": [
    {
     "data": {
      "text/plain": [
       "758"
      ]
     },
     "execution_count": 4,
     "metadata": {},
     "output_type": "execute_result"
    }
   ],
   "source": [
    "len(dataset)"
   ]
  },
  {
   "cell_type": "code",
   "execution_count": 5,
   "id": "0d2c9515-0925-4095-a243-38df9b8bb71c",
   "metadata": {},
   "outputs": [],
   "source": [
    "train_dataset, val_dataset, test_dataset = train_val_test_datset_split(dataset)"
   ]
  },
  {
   "cell_type": "code",
   "execution_count": 6,
   "id": "0de4cab7-579d-40c2-afff-cd68ca77e11d",
   "metadata": {},
   "outputs": [],
   "source": [
    "train_dataloader = BalancedClassDataloader(train_dataset, batch_size=32)\n",
    "val_dataloader = DataLoader(val_dataset, batch_size=32, shuffle=True)\n",
    "test_dataloader = DataLoader(test_dataset, batch_size=32, shuffle=True)"
   ]
  },
  {
   "cell_type": "code",
   "execution_count": 10,
   "id": "9b5b97fc-873c-47d1-be3a-7071b6f28c84",
   "metadata": {},
   "outputs": [
    {
     "data": {
      "text/plain": [
       "LeNet(\n",
       "  (cn1): Conv2d(3, 6, kernel_size=(10, 10), stride=(2, 2))\n",
       "  (cn2): Conv2d(6, 16, kernel_size=(10, 10), stride=(4, 4))\n",
       "  (fc1): Linear(in_features=9440, out_features=120, bias=True)\n",
       "  (fc2): Linear(in_features=120, out_features=84, bias=True)\n",
       "  (fc3): Linear(in_features=84, out_features=2, bias=True)\n",
       ")"
      ]
     },
     "execution_count": 10,
     "metadata": {},
     "output_type": "execute_result"
    }
   ],
   "source": [
    "model = LeNet()\n",
    "model.to('mps')"
   ]
  },
  {
   "cell_type": "code",
   "execution_count": 15,
   "id": "58caab88-1394-4a4c-9228-fded1fadf5eb",
   "metadata": {},
   "outputs": [],
   "source": [
    "optimizer = Adam(model.parameters(), lr=0.001)"
   ]
  },
  {
   "cell_type": "code",
   "execution_count": 9,
   "id": "e505633c-86e8-42de-9be9-3cdc730f4cd3",
   "metadata": {},
   "outputs": [],
   "source": [
    "import logging\n",
    "logger = logging.getLogger()\n",
    "logger.setLevel(logging.DEBUG)"
   ]
  },
  {
   "cell_type": "code",
   "execution_count": 19,
   "id": "2a6b21fa-87a8-4e7b-ab08-9623a7299b77",
   "metadata": {},
   "outputs": [
    {
     "name": "stdout",
     "output_type": "stream",
     "text": [
      "epoch: 0, 0, 568, 0.0, 1.8551587572801509e-06\n",
      "epoch: 0, 320, 568, 55.55555555555556, 1.121305899687286e-06\n",
      "Accuracy on val dataset: 84.21052631578948\n",
      "epoch: 1, 0, 568, 0.0, 8.083840157269151e-07\n",
      "epoch: 1, 320, 568, 55.55555555555556, 1.4752037031939835e-06\n",
      "epoch: 2, 0, 568, 0.0, 4.768347992012423e-07\n",
      "epoch: 2, 320, 568, 55.55555555555556, 1.4901142719736526e-07\n",
      "epoch: 3, 0, 568, 0.0, 5.997691232551006e-07\n",
      "epoch: 3, 320, 568, 55.55555555555556, 1.143658664659597e-06\n",
      "epoch: 4, 0, 568, 0.0, 2.250003035442205e-06\n",
      "epoch: 4, 320, 568, 55.55555555555556, 1.605590682629554e-06\n",
      "epoch: 5, 0, 568, 0.0, 5.40163625828427e-07\n",
      "epoch: 5, 320, 568, 55.55555555555556, 1.799289293558104e-06\n",
      "epoch: 6, 0, 568, 0.0, 3.112441845587455e-05\n",
      "epoch: 6, 320, 568, 55.55555555555556, 2.2351237021212e-06\n",
      "epoch: 7, 0, 568, 0.0, 3.725289587919178e-08\n",
      "epoch: 7, 320, 568, 55.55555555555556, 3.1676718208473176e-05\n",
      "epoch: 8, 0, 568, 0.0, 7.413287903546006e-07\n",
      "epoch: 8, 320, 568, 55.55555555555556, 6.045776899554767e-06\n",
      "epoch: 9, 0, 568, 0.0, 1.3857959402230335e-06\n",
      "epoch: 9, 320, 568, 55.55555555555556, 1.2889453273601248e-06\n"
     ]
    }
   ],
   "source": [
    "for epoch in range(10):\n",
    "    train(model, 'mps', train_dataloader, optimizer, epoch)\n",
    "    if epoch % 10 == 0:\n",
    "        validate(model, 'mps', val_dataloader)"
   ]
  },
  {
   "cell_type": "code",
   "execution_count": 20,
   "id": "fb85cded-d21f-4ba9-8755-a81357927c2a",
   "metadata": {},
   "outputs": [],
   "source": [
    "X, y = next(iter(test_dataloader))\n",
    "X = X.to('mps')\n",
    "y = y.to('mps')"
   ]
  },
  {
   "cell_type": "code",
   "execution_count": 21,
   "id": "99f18d6b-caff-4609-bd5a-90146843fcfe",
   "metadata": {},
   "outputs": [
    {
     "data": {
      "text/plain": [
       "tensor([[ 32.0939, -27.7632],\n",
       "        [  3.2352,  -3.4434],\n",
       "        [ 34.7594, -29.2567],\n",
       "        [ 14.4928, -12.2157],\n",
       "        [ 35.9465, -29.4924],\n",
       "        [ 42.2531, -35.2894],\n",
       "        [ 51.4587, -44.0957],\n",
       "        [ 28.1328, -24.6779],\n",
       "        [ 15.5242, -13.1013],\n",
       "        [ 75.8901, -64.0907],\n",
       "        [ 26.5152, -22.7055],\n",
       "        [ 21.0911, -17.6091],\n",
       "        [ 23.9962, -23.5931],\n",
       "        [ 19.1428, -16.1193],\n",
       "        [ -3.1498,   1.2285],\n",
       "        [ 32.6228, -28.1564],\n",
       "        [ 11.5873,  -9.6030],\n",
       "        [ 13.0622, -11.3630],\n",
       "        [ 25.4478, -21.5551],\n",
       "        [ 13.3042, -11.6053],\n",
       "        [  0.7720,  -1.5833],\n",
       "        [  8.0265,  -6.7527],\n",
       "        [ 27.2571, -23.0067],\n",
       "        [ 10.8682,  -9.5984],\n",
       "        [ 13.8624, -12.7195],\n",
       "        [ 15.9116, -13.1407],\n",
       "        [  3.6291,  -4.0108],\n",
       "        [ -5.6680,   3.2765],\n",
       "        [ 36.9584, -31.4195],\n",
       "        [ 29.2270, -25.7876],\n",
       "        [ 44.0331, -36.5216],\n",
       "        [  8.7432,  -7.9012]], device='mps:0', grad_fn=<LinearBackward0>)"
      ]
     },
     "execution_count": 21,
     "metadata": {},
     "output_type": "execute_result"
    }
   ],
   "source": [
    "model.forward(X)"
   ]
  },
  {
   "cell_type": "code",
   "execution_count": null,
   "id": "edf0f32a-4d02-4a98-9386-b02a7904cc17",
   "metadata": {},
   "outputs": [],
   "source": []
  }
 ],
 "metadata": {
  "kernelspec": {
   "display_name": "Python 3 (ipykernel)",
   "language": "python",
   "name": "python3"
  },
  "language_info": {
   "codemirror_mode": {
    "name": "ipython",
    "version": 3
   },
   "file_extension": ".py",
   "mimetype": "text/x-python",
   "name": "python",
   "nbconvert_exporter": "python",
   "pygments_lexer": "ipython3",
   "version": "3.11.9"
  }
 },
 "nbformat": 4,
 "nbformat_minor": 5
}
