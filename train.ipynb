{
 "cells": [
  {
   "cell_type": "code",
   "execution_count": 1,
   "id": "5e1d2673-7174-47e7-9df2-4e3475cea03f",
   "metadata": {},
   "outputs": [],
   "source": [
    "from torch.utils.data import DataLoader\n",
    "from torch.optim import Adadelta"
   ]
  },
  {
   "cell_type": "code",
   "execution_count": 2,
   "id": "9a622339-014d-46b4-ae5b-909ea02c08bf",
   "metadata": {},
   "outputs": [],
   "source": [
    "from willitsurf.models.conv import ConvNet\n",
    "from willitsurf.dataset import SurfImageDataset\n",
    "from willitsurf.dataset import train_val_test_datset_split\n",
    "from willitsurf.dataset import BalancedClassDataloader\n",
    "from willitsurf.models.conv import train"
   ]
  },
  {
   "cell_type": "code",
   "execution_count": 3,
   "id": "910cd1b1-d79b-490e-a16d-c7ea2e37811a",
   "metadata": {},
   "outputs": [],
   "source": [
    "dataset = SurfImageDataset('./assets/data/labels/annotations.tsv', './assets/data/raw')"
   ]
  },
  {
   "cell_type": "code",
   "execution_count": 4,
   "id": "1899b5fa-6a63-4756-8182-b22866b49384",
   "metadata": {},
   "outputs": [
    {
     "data": {
      "text/plain": [
       "566"
      ]
     },
     "execution_count": 4,
     "metadata": {},
     "output_type": "execute_result"
    }
   ],
   "source": [
    "len(dataset)"
   ]
  },
  {
   "cell_type": "code",
   "execution_count": 5,
   "id": "258f9eb9-b373-4947-a835-77fd386df0b7",
   "metadata": {},
   "outputs": [],
   "source": [
    "train_dataset, val_dataset, test_dataset = train_val_test_datset_split(dataset)"
   ]
  },
  {
   "cell_type": "code",
   "execution_count": 6,
   "id": "7e63c891-20ef-473f-bb08-5d199320deba",
   "metadata": {},
   "outputs": [],
   "source": [
    "train_dataloader = BalancedClassDataloader(train_dataset, batch_size=32)"
   ]
  },
  {
   "cell_type": "code",
   "execution_count": 16,
   "id": "5511d780-3a79-4bb8-8d9b-0ff800891986",
   "metadata": {},
   "outputs": [],
   "source": [
    "c = ConvNet()\n",
    "c.to('mps')\n",
    "a = Adadelta(c.parameters(), lr=0.5)"
   ]
  },
  {
   "cell_type": "code",
   "execution_count": 21,
   "id": "cdedcd31-3905-4d07-a15b-aff0a7126db0",
   "metadata": {
    "scrolled": true
   },
   "outputs": [
    {
     "name": "stdout",
     "output_type": "stream",
     "text": [
      "epoch: 0, 0, 566, 0.0, 0.42979639768600464\n",
      "epoch: 0, 100, 566, 17.54385964912281, 1.8981742858886719\n",
      "epoch: 0, 200, 566, 35.08771929824562, 0.5204230546951294\n",
      "epoch: 0, 300, 566, 52.63157894736842, 0.38304537534713745\n",
      "epoch: 0, 400, 566, 70.17543859649123, 0.6058700680732727\n",
      "epoch: 0, 500, 566, 87.71929824561404, 0.40484029054641724\n",
      "epoch: 1, 0, 566, 0.0, 0.2559170126914978\n",
      "epoch: 1, 100, 566, 17.54385964912281, 0.22797946631908417\n",
      "epoch: 1, 200, 566, 35.08771929824562, 0.32339245080947876\n",
      "epoch: 1, 300, 566, 52.63157894736842, 0.45086002349853516\n",
      "epoch: 1, 400, 566, 70.17543859649123, 0.03137664869427681\n",
      "epoch: 1, 500, 566, 87.71929824561404, 0.2521652579307556\n",
      "epoch: 2, 0, 566, 0.0, 0.47554364800453186\n",
      "epoch: 2, 100, 566, 17.54385964912281, 0.43920284509658813\n",
      "epoch: 2, 200, 566, 35.08771929824562, 0.39480867981910706\n",
      "epoch: 2, 300, 566, 52.63157894736842, 0.6658280491828918\n",
      "epoch: 2, 400, 566, 70.17543859649123, 0.20609262585639954\n",
      "epoch: 2, 500, 566, 87.71929824561404, 0.4369235038757324\n",
      "epoch: 3, 0, 566, 0.0, 0.9596525430679321\n",
      "epoch: 3, 100, 566, 17.54385964912281, 0.3698069453239441\n",
      "epoch: 3, 200, 566, 35.08771929824562, 0.4196069836616516\n",
      "epoch: 3, 300, 566, 52.63157894736842, 1.8757193088531494\n",
      "epoch: 3, 400, 566, 70.17543859649123, 0.220371276140213\n",
      "epoch: 3, 500, 566, 87.71929824561404, 0.22153344750404358\n",
      "epoch: 4, 0, 566, 0.0, 0.7364453077316284\n",
      "epoch: 4, 100, 566, 17.54385964912281, 0.29574161767959595\n",
      "epoch: 4, 200, 566, 35.08771929824562, 0.23828180134296417\n",
      "epoch: 4, 300, 566, 52.63157894736842, 0.5952453017234802\n",
      "epoch: 4, 400, 566, 70.17543859649123, 0.5409293174743652\n",
      "epoch: 4, 500, 566, 87.71929824561404, 0.17670908570289612\n",
      "epoch: 5, 0, 566, 0.0, 0.37160640954971313\n",
      "epoch: 5, 100, 566, 17.54385964912281, 0.4086676239967346\n",
      "epoch: 5, 200, 566, 35.08771929824562, 0.312295526266098\n",
      "epoch: 5, 300, 566, 52.63157894736842, 0.4577760100364685\n",
      "epoch: 5, 400, 566, 70.17543859649123, 0.2769443988800049\n",
      "epoch: 5, 500, 566, 87.71929824561404, 0.5117989182472229\n",
      "epoch: 6, 0, 566, 0.0, 0.5702658891677856\n",
      "epoch: 6, 100, 566, 17.54385964912281, 0.09716349840164185\n",
      "epoch: 6, 200, 566, 35.08771929824562, 0.3995042145252228\n",
      "epoch: 6, 300, 566, 52.63157894736842, 0.20136484503746033\n",
      "epoch: 6, 400, 566, 70.17543859649123, 0.25341907143592834\n",
      "epoch: 6, 500, 566, 87.71929824561404, 0.27827414870262146\n",
      "epoch: 7, 0, 566, 0.0, 0.33840978145599365\n",
      "epoch: 7, 100, 566, 17.54385964912281, 0.4306289255619049\n",
      "epoch: 7, 200, 566, 35.08771929824562, 0.6649895906448364\n",
      "epoch: 7, 300, 566, 52.63157894736842, 0.4531887471675873\n",
      "epoch: 7, 400, 566, 70.17543859649123, 0.39298251271247864\n",
      "epoch: 7, 500, 566, 87.71929824561404, 0.47035545110702515\n",
      "epoch: 8, 0, 566, 0.0, 0.4574567675590515\n",
      "epoch: 8, 100, 566, 17.54385964912281, 0.6396281123161316\n",
      "epoch: 8, 200, 566, 35.08771929824562, 0.3825095593929291\n",
      "epoch: 8, 300, 566, 52.63157894736842, 0.5589137673377991\n",
      "epoch: 8, 400, 566, 70.17543859649123, 0.1892203837633133\n",
      "epoch: 8, 500, 566, 87.71929824561404, 0.4099403917789459\n",
      "epoch: 9, 0, 566, 0.0, 0.12657035887241364\n",
      "epoch: 9, 100, 566, 17.54385964912281, 0.8458986282348633\n",
      "epoch: 9, 200, 566, 35.08771929824562, 0.3856457471847534\n",
      "epoch: 9, 300, 566, 52.63157894736842, 0.26789647340774536\n",
      "epoch: 9, 400, 566, 70.17543859649123, 0.2844545841217041\n",
      "epoch: 9, 500, 566, 87.71929824561404, 0.2897565960884094\n"
     ]
    }
   ],
   "source": [
    "for epoch in range(10):\n",
    "    train(c, 'mps', d, a, epoch)"
   ]
  },
  {
   "cell_type": "code",
   "execution_count": null,
   "id": "77333a50-5744-4901-bde7-4fc343cd24f6",
   "metadata": {},
   "outputs": [],
   "source": []
  }
 ],
 "metadata": {
  "kernelspec": {
   "display_name": "Python 3 (ipykernel)",
   "language": "python",
   "name": "python3"
  },
  "language_info": {
   "codemirror_mode": {
    "name": "ipython",
    "version": 3
   },
   "file_extension": ".py",
   "mimetype": "text/x-python",
   "name": "python",
   "nbconvert_exporter": "python",
   "pygments_lexer": "ipython3",
   "version": "3.11.9"
  }
 },
 "nbformat": 4,
 "nbformat_minor": 5
}
